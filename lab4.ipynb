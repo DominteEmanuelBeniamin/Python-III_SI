{
  "nbformat": 4,
  "nbformat_minor": 0,
  "metadata": {
    "colab": {
      "provenance": [],
      "authorship_tag": "ABX9TyN8AqjZnN+jvjYR6mMX/S9E",
      "include_colab_link": true
    },
    "kernelspec": {
      "name": "python3",
      "display_name": "Python 3"
    },
    "language_info": {
      "name": "python"
    }
  },
  "cells": [
    {
      "cell_type": "markdown",
      "metadata": {
        "id": "view-in-github",
        "colab_type": "text"
      },
      "source": [
        "<a href=\"https://colab.research.google.com/github/DominteEmanuelBeniamin/Python-III_SI/blob/main/lab4.ipynb\" target=\"_parent\"><img src=\"https://colab.research.google.com/assets/colab-badge.svg\" alt=\"Open In Colab\"/></a>"
      ]
    },
    {
      "cell_type": "code",
      "source": [
        "class Stack:\n",
        "    def __init__(self):\n",
        "        self.items = []\n",
        "\n",
        "    def push(self, item):\n",
        "        self.items.append(item)\n",
        "\n",
        "    def pop(self):\n",
        "        if len(self.items) == 0:\n",
        "            return None\n",
        "        return self.items.pop()\n",
        "\n",
        "    def peek(self):\n",
        "        if len(self.items) == 0:\n",
        "            return None\n",
        "        return self.items[-1]\n",
        "\n",
        "    def is_empty(self):\n",
        "        return len(self.items) == 0\n",
        "\n",
        "s = Stack()\n",
        "s.push(1)\n",
        "s.push(2)\n",
        "print(s.pop())\n",
        "print(s.peek())\n",
        "print(s.pop())\n",
        "print(s.pop())"
      ],
      "metadata": {
        "colab": {
          "base_uri": "https://localhost:8080/"
        },
        "id": "z9MxU-ooZt9b",
        "outputId": "1435c459-a492-4a57-e19e-012321cd9add"
      },
      "execution_count": null,
      "outputs": [
        {
          "output_type": "stream",
          "name": "stdout",
          "text": [
            "2\n",
            "1\n",
            "1\n",
            "None\n"
          ]
        }
      ]
    },
    {
      "cell_type": "code",
      "source": [
        "class Queue:\n",
        "    def __init__(self):\n",
        "        self.items = []\n",
        "\n",
        "    def push(self, item):\n",
        "        self.items.append(item)\n",
        "\n",
        "    def pop(self):\n",
        "        if len(self.items) == 0:\n",
        "            return None\n",
        "        return self.items.pop(0)\n",
        "\n",
        "    def peek(self):\n",
        "        if len(self.items) == 0:\n",
        "            return None\n",
        "        return self.items[0]\n",
        "\n",
        "    def is_empty(self):\n",
        "        return len(self.items) == 0\n",
        "\n",
        "q = Queue()\n",
        "q.push(1)\n",
        "q.push(2)\n",
        "print(q.pop())\n",
        "print(q.peek())\n",
        "print(q.pop())\n",
        "print(q.pop())\n"
      ],
      "metadata": {
        "colab": {
          "base_uri": "https://localhost:8080/"
        },
        "id": "yrIRgnClaXrr",
        "outputId": "a68147a6-bb1f-4e40-95b0-7bace679cb11"
      },
      "execution_count": null,
      "outputs": [
        {
          "output_type": "stream",
          "name": "stdout",
          "text": [
            "1\n",
            "2\n",
            "2\n",
            "None\n"
          ]
        }
      ]
    },
    {
      "cell_type": "code",
      "source": [
        "class Matrix:\n",
        "    def __init__(self, n, m):\n",
        "        self.n = n\n",
        "        self.m = m\n",
        "        self.data = []\n",
        "        for i in range(n):\n",
        "            row = [0] * m\n",
        "            self.data.append(row)\n",
        "\n",
        "    def get(self, i, j):\n",
        "        if 0 <= i < self.n and 0 <= j < self.m:\n",
        "            return self.data[i][j]\n",
        "        return None\n",
        "\n",
        "    def set(self, i, j, value):\n",
        "        if 0 <= i < self.n and 0 <= j < self.m:\n",
        "            self.data[i][j] = value\n",
        "\n",
        "    def transpose(self):\n",
        "        transposed = Matrix(self.m, self.n)\n",
        "        for i in range(len(self.data)):\n",
        "            for j in range(len(self.data[i])):\n",
        "                transposed.data[j][i] = self.data[i][j]\n",
        "        return transposed\n",
        "\n",
        "    def multiply(self, other):\n",
        "        if self.m != other.n:\n",
        "            return None\n",
        "        result = Matrix(self.n, other.m)\n",
        "        for i in range(self.n):\n",
        "            for j in range(other.m):\n",
        "                total = 0\n",
        "                for k in range(self.m):\n",
        "                    val1 = self.data[i][k]\n",
        "                    val2 = other.data[k][j]\n",
        "                    total = total + (val1 * val2)\n",
        "                result.data[i][j] = total\n",
        "        return result\n",
        "\n",
        "    def apply(self, func):\n",
        "        for i in range(self.n):\n",
        "            for j in range(self.m):\n",
        "                value = self.get(i, j)\n",
        "                if value is not None:\n",
        "                    new_value = func(value)\n",
        "                    self.set(i, j, new_value)\n",
        "\n",
        "    def __str__(self):\n",
        "        matrix_str = \"\"\n",
        "        for row in self.data:\n",
        "            row_str = \"\"\n",
        "            for value in row:\n",
        "                row_str += str(value) + \"  \"\n",
        "            matrix_str += row_str.strip() + \"\\n\"\n",
        "        return matrix_str.strip()\n",
        "\n",
        "\n",
        "matrix = Matrix(3, 3)\n",
        "matrix.set(0, 0, 2)\n",
        "matrix.set(0, 1, 4)\n",
        "matrix.set(0, 2, 6)\n",
        "matrix.set(1, 0, 8)\n",
        "matrix.set(1, 1, 5)\n",
        "matrix.set(1, 2, 3)\n",
        "matrix.set(2, 0, 7)\n",
        "matrix.set(2, 1, 8)\n",
        "matrix.set(2, 2, 1)\n",
        "\n",
        "print(\"Original matrix:\")\n",
        "print(matrix)\n",
        "\n",
        "print(\"\\nTransposed matrix:\")\n",
        "print(matrix.transpose())\n",
        "\n",
        "print(\"\\nAfter applying transformation (add 1 to each element):\")\n",
        "matrix.apply(lambda x: x + 1)\n",
        "print(matrix)\n"
      ],
      "metadata": {
        "colab": {
          "base_uri": "https://localhost:8080/"
        },
        "id": "B4r3psylwlGr",
        "outputId": "f9ef883b-425e-4bb7-a236-a7b6bc66d36f"
      },
      "execution_count": 4,
      "outputs": [
        {
          "output_type": "stream",
          "name": "stdout",
          "text": [
            "Original matrix:\n",
            "2  4  6\n",
            "8  5  3\n",
            "7  8  1\n",
            "\n",
            "Transposed matrix:\n",
            "2  8  7\n",
            "4  5  8\n",
            "6  3  1\n",
            "\n",
            "After applying transformation (add 1 to each element):\n",
            "3  5  7\n",
            "9  6  4\n",
            "8  9  2\n"
          ]
        }
      ]
    }
  ]
}