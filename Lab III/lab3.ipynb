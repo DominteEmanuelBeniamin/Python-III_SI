{
  "nbformat": 4,
  "nbformat_minor": 0,
  "metadata": {
    "colab": {
      "provenance": []
    },
    "kernelspec": {
      "name": "python3",
      "display_name": "Python 3"
    },
    "language_info": {
      "name": "python"
    }
  },
  "cells": [
    {
      "cell_type": "code",
      "execution_count": null,
      "metadata": {
        "colab": {
          "base_uri": "https://localhost:8080/"
        },
        "id": "kAHVbO-6C90S",
        "outputId": "f106971e-f75b-4632-8920-f0b1faeec599"
      },
      "outputs": [
        {
          "output_type": "stream",
          "name": "stdout",
          "text": [
            "[{3, 4}, {1, 2, 3, 4, 5, 6}, {1, 2}, {5, 6}]\n"
          ]
        }
      ],
      "source": [
        "def list_sets(a, b):\n",
        "    return [set(a) & set(b), set(a) | set(b), set(a) - set(b), set(b) - set(a)]\n",
        "\n",
        "a = [1, 2, 3, 4]\n",
        "b = [3, 4, 5, 6]\n",
        "\n",
        "result = list_sets(a, b)\n",
        "print(result)\n"
      ]
    },
    {
      "cell_type": "code",
      "source": [
        "def char_count(s):\n",
        "    return {char: s.count(char) for char in s}\n",
        "\n",
        "s = \"Ana has apples.\"\n",
        "result_count = char_count(s)\n",
        "print(result_count)\n"
      ],
      "metadata": {
        "colab": {
          "base_uri": "https://localhost:8080/"
        },
        "id": "wO3HHIWCDkIp",
        "outputId": "71a7dcef-04f2-470d-d6ed-1b44d4f4bcfb"
      },
      "execution_count": null,
      "outputs": [
        {
          "output_type": "stream",
          "name": "stdout",
          "text": [
            "{'A': 1, 'n': 1, 'a': 3, ' ': 2, 'h': 1, 's': 2, 'p': 2, 'l': 1, 'e': 1, '.': 1}\n"
          ]
        }
      ]
    },
    {
      "cell_type": "code",
      "source": [
        "def compare_dic(d1, d2):\n",
        "    if d1.keys() != d2.keys():\n",
        "        return False\n",
        "    for key in d1:\n",
        "        if type(d1[key]) == dict and type(d2[key]) == dict:\n",
        "            if not compare_dic(d1[key], d2[key]):\n",
        "                return False\n",
        "        elif type(d1[key]) == list and type(d2[key]) == list:\n",
        "            if len(d1[key]) != len(d2[key]) or any(not compare_dic({i: d1[key][i]}, {i: d2[key][i]}) for i in range(len(d1[key]))):\n",
        "                return False\n",
        "        elif type(d1[key]) == set and type(d2[key]) == set:\n",
        "            if d1[key] != d2[key]:\n",
        "                return False\n",
        "        else:\n",
        "            if d1[key] != d2[key]:\n",
        "                return False\n",
        "    return True\n",
        "\n",
        "dic1 = {\"a\": 1, \"b\": {\"c\": 2, \"d\": [3, 4]}, \"e\": {5, 6}}\n",
        "dic2 = {\"a\": 1, \"b\": {\"c\": 2, \"d\": [3, 4]}, \"e\": {5, 6}}\n",
        "\n",
        "print(compare_dic(dic1, dic2))\n"
      ],
      "metadata": {
        "colab": {
          "base_uri": "https://localhost:8080/"
        },
        "id": "9Z70U80hECsb",
        "outputId": "425968b5-d1f9-4824-a9b5-770f078a6750"
      },
      "execution_count": null,
      "outputs": [
        {
          "output_type": "stream",
          "name": "stdout",
          "text": [
            "True\n"
          ]
        }
      ]
    },
    {
      "cell_type": "code",
      "source": [
        "def build_xml_element(tag, content, **attrs):\n",
        "    attr_str = \" \".join(f'{key}=\"{value}\"' for key, value in attrs.items())\n",
        "    return f\"<{tag} {attr_str}>{content}</{tag}>\"\n",
        "result = build_xml_element(\"a\", \"Hello there\", href=\"http://python.org\", _class=\"my-link\", id=\"someid\")\n",
        "print(result)\n"
      ],
      "metadata": {
        "id": "f_MhX9wuErQd",
        "outputId": "0acb8dcc-85d7-406c-b1ec-a9cca2972590",
        "colab": {
          "base_uri": "https://localhost:8080/"
        }
      },
      "execution_count": null,
      "outputs": [
        {
          "output_type": "stream",
          "name": "stdout",
          "text": [
            "<a href=\"http://python.org\" _class=\"my-link\" id=\"someid\">Hello there</a>\n"
          ]
        }
      ]
    },
    {
      "cell_type": "code",
      "source": [
        "def validate_dict(rules, d):\n",
        "    if set(d.keys()) != {rule[0] for rule in rules}:\n",
        "        return False\n",
        "\n",
        "    for key, prefix, middle, suffix in rules:\n",
        "        value = d.get(key, \"\")\n",
        "\n",
        "        if (prefix and not value.startswith(prefix)) or (suffix and not value.endswith(suffix)):\n",
        "            return False\n",
        "\n",
        "        if middle:\n",
        "            pos = value.find(middle)\n",
        "            if pos <= 0 or pos + len(middle) >= len(value):\n",
        "                return False\n",
        "\n",
        "    return True\n",
        "\n",
        "\n",
        "s = {(\"key1\", \"\", \"inside\", \"\"), (\"key2\", \"start\", \"middle\", \"winter\")}\n",
        "d = {\n",
        "    \"key1\": \"come inside, it's too cold out\",\n",
        "    \"key3\": \"this is not valid\"\n",
        "}\n",
        "\n",
        "print(validate_dict(s, d))\n"
      ],
      "metadata": {
        "colab": {
          "base_uri": "https://localhost:8080/"
        },
        "id": "wO5B6AGfSLzb",
        "outputId": "caa9f561-2019-451b-bf70-e04c44d4165a"
      },
      "execution_count": null,
      "outputs": [
        {
          "output_type": "stream",
          "name": "stdout",
          "text": [
            "False\n"
          ]
        }
      ]
    },
    {
      "cell_type": "code",
      "source": [
        "def set_operations(*sets):\n",
        "    results = {}\n",
        "\n",
        "    for i, a in enumerate(sets):\n",
        "        for j, b in enumerate(sets):\n",
        "            if i < j:\n",
        "                results[f\"{a} | {b}\"] = a | b\n",
        "                results[f\"{a} & {b}\"] = a & b\n",
        "                results[f\"{a} - {b}\"] = a - b\n",
        "                results[f\"{b} - {a}\"] = b - a\n",
        "\n",
        "    return results\n",
        "\n",
        "lst = [1, 2, 2, 3, 4, 4, 4, 5]\n",
        "result = count_unique_duplicates(lst)\n",
        "print(result)\n"
      ],
      "metadata": {
        "colab": {
          "base_uri": "https://localhost:8080/"
        },
        "id": "j_A2iJaCThCq",
        "outputId": "9c947c94-ed04-4304-aeb8-eb2efc6c08ad"
      },
      "execution_count": null,
      "outputs": [
        {
          "output_type": "stream",
          "name": "stdout",
          "text": [
            "(5, 3)\n"
          ]
        }
      ]
    },
    {
      "cell_type": "code",
      "source": [
        "def traverse_mapping(mapping):\n",
        "    result = []\n",
        "    current = mapping['start']\n",
        "    visited = set()\n",
        "\n",
        "    while current not in visited:\n",
        "        result.append(current)\n",
        "        visited.add(current)\n",
        "        current = mapping[current]\n",
        "\n",
        "    result.append(current)\n",
        "    return result[:-1]\n",
        "\n",
        "print(traverse_mapping({'start': 'a', 'b': 'a', 'a': '6', '6': 'z', 'x': '2', 'z': '2', '2': '2', 'y': 'start'}))\n"
      ],
      "metadata": {
        "colab": {
          "base_uri": "https://localhost:8080/"
        },
        "id": "Qk5zgF-ayNJE",
        "outputId": "90a00f4a-b446-4d25-c234-be9890c852d4"
      },
      "execution_count": 8,
      "outputs": [
        {
          "output_type": "stream",
          "name": "stdout",
          "text": [
            "['a', '6', 'z', '2']\n"
          ]
        }
      ]
    },
    {
      "cell_type": "code",
      "source": [
        "\n",
        "\n",
        "def my_function(*args, **kwargs):\n",
        "    count = 0\n",
        "    for arg in args:\n",
        "        if arg in kwargs.values():\n",
        "            count += 1\n",
        "    return count\n",
        "\n",
        "result = my_function(1, 2, 3, 4, x=1, y=2, z=3, w=5)\n",
        "print(result)"
      ],
      "metadata": {
        "colab": {
          "base_uri": "https://localhost:8080/"
        },
        "id": "58dxF-fpz4ED",
        "outputId": "1cb7f49a-bea7-4547-e825-b8d1e3772ce6"
      },
      "execution_count": 10,
      "outputs": [
        {
          "output_type": "stream",
          "name": "stdout",
          "text": [
            "3\n"
          ]
        }
      ]
    }
  ]
}