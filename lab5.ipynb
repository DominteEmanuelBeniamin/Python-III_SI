{
  "nbformat": 4,
  "nbformat_minor": 0,
  "metadata": {
    "colab": {
      "provenance": []
    },
    "kernelspec": {
      "name": "python3",
      "display_name": "Python 3"
    },
    "language_info": {
      "name": "python"
    }
  },
  "cells": [
    {
      "cell_type": "code",
      "source": [
        "\n",
        "import math\n",
        "\n",
        "class Shape:\n",
        "    def area(self):\n",
        "        pass\n",
        "\n",
        "    def perimeter(self):\n",
        "        pass\n",
        "\n",
        "class Circle(Shape):\n",
        "    def __init__(self, r):\n",
        "        self.r = r\n",
        "\n",
        "    def area(self):\n",
        "        return math.pi * self.r**2\n",
        "\n",
        "    def perimeter(self):\n",
        "        return 2 * math.pi * self.r\n",
        "\n",
        "class Rectangle(Shape):\n",
        "    def __init__(self, w, h):\n",
        "        self.w = w\n",
        "        self.h = h\n",
        "\n",
        "    def area(self):\n",
        "        return self.w * self.h\n",
        "\n",
        "    def perimeter(self):\n",
        "        return 2 * (self.w + self.h)\n",
        "\n",
        "class Triangle(Shape):\n",
        "    def __init__(self, a, b, c, base, height):\n",
        "        self.a = a\n",
        "        self.b = b\n",
        "        self.c = c\n",
        "        self.base = base\n",
        "        self.height = height\n",
        "\n",
        "    def area(self):\n",
        "        return 0.5 * self.base * self.height\n",
        "\n",
        "    def perimeter(self):\n",
        "        return self.a + self.b + self.c\n",
        "\n",
        "c = Circle(5)\n",
        "print(\"Circle area:\", c.area(), \"Perimeter:\", c.perimeter())\n",
        "\n",
        "r = Rectangle(4, 6)\n",
        "print(\"Rectangle area:\", r.area(), \"Perimeter:\", r.perimeter())\n",
        "\n",
        "t = Triangle(3, 4, 5, 4, 3)\n",
        "print(\"Triangle area:\", t.area(), \"Perimeter:\", t.perimeter())\n",
        "\n",
        "print(\"\\n\")\n"
      ],
      "metadata": {
        "colab": {
          "base_uri": "https://localhost:8080/"
        },
        "id": "jVIRyCVVH-uk",
        "outputId": "6f4c0e1b-99e9-4388-f9b7-b0cf6ab96fa8"
      },
      "execution_count": 9,
      "outputs": [
        {
          "output_type": "stream",
          "name": "stdout",
          "text": [
            "Circle area: 78.53981633974483 Perimeter: 31.41592653589793\n",
            "Rectangle area: 24 Perimeter: 20\n",
            "Triangle area: 6.0 Perimeter: 12\n",
            "\n",
            "\n"
          ]
        }
      ]
    },
    {
      "cell_type": "code",
      "source": [
        "\n",
        "class Account:\n",
        "    def __init__(self, acc_num, bal=0):\n",
        "        self.acc_num = acc_num\n",
        "        self.bal = bal\n",
        "\n",
        "    def deposit(self, amt):\n",
        "        self.bal += amt\n",
        "        print(\"Deposited\", amt, \"New balance:\", self.bal)\n",
        "\n",
        "    def withdraw(self, amt):\n",
        "        if self.bal >= amt:\n",
        "            self.bal -= amt\n",
        "            print(\"Withdrew\", amt, \"New balance:\", self.bal)\n",
        "        else:\n",
        "            print(\"Insufficient funds\")\n",
        "\n",
        "class SavingsAccount(Account):\n",
        "    def __init__(self, acc_num, bal=0, rate=0.02):\n",
        "        super().__init__(acc_num, bal)\n",
        "        self.rate = rate\n",
        "\n",
        "    def calc_interest(self):\n",
        "        interest = self.bal * self.rate\n",
        "        print(\"Interest:\", interest)\n",
        "        return interest\n",
        "\n",
        "class CheckingAccount(Account):\n",
        "    def __init__(self, acc_num, bal=0, overdraft=500):\n",
        "        super().__init__(acc_num, bal)\n",
        "        self.overdraft = overdraft\n",
        "\n",
        "    def withdraw(self, amt):\n",
        "        if self.bal + self.overdraft >= amt:\n",
        "            self.bal -= amt\n",
        "            print(\"Withdrew\", amt, \"New balance:\", self.bal)\n",
        "        else:\n",
        "            print(\"Overdraft limit exceeded\")\n",
        "\n",
        "s = SavingsAccount(123, 1000)\n",
        "s.deposit(500)\n",
        "s.calc_interest()\n",
        "s.withdraw(200)\n",
        "\n",
        "c = CheckingAccount(456, 500)\n",
        "c.withdraw(900)\n",
        "print(\"\\n\")\n"
      ],
      "metadata": {
        "colab": {
          "base_uri": "https://localhost:8080/"
        },
        "id": "95M9PtkBJ7Tn",
        "outputId": "e54d3e22-313f-4ac5-b4e8-eaa128b6dfd5"
      },
      "execution_count": 10,
      "outputs": [
        {
          "output_type": "stream",
          "name": "stdout",
          "text": [
            "Deposited 500 New balance: 1500\n",
            "Interest: 30.0\n",
            "Withdrew 200 New balance: 1300\n",
            "Withdrew 900 New balance: -400\n",
            "\n",
            "\n"
          ]
        }
      ]
    },
    {
      "cell_type": "code",
      "source": [
        "\n",
        "class Vehicle:\n",
        "    def __init__(self, make, model, year, mileage=0):\n",
        "        self.make = make\n",
        "        self.model = model\n",
        "        self.year = year\n",
        "        self.mileage = mileage\n",
        "\n",
        "    def get_mileage(self):\n",
        "        return self.mileage\n",
        "\n",
        "class Car(Vehicle):\n",
        "    def __init__(self, make, model, year, mileage=0, doors=4):\n",
        "        super().__init__(make, model, year, mileage)\n",
        "        self.doors = doors\n",
        "\n",
        "class Motorcycle(Vehicle):\n",
        "    def __init__(self, make, model, year, mileage=0, type='Sport'):\n",
        "        super().__init__(make, model, year, mileage)\n",
        "        self.type = type\n",
        "\n",
        "class Truck(Vehicle):\n",
        "    def __init__(self, make, model, year, mileage=0, towing_capacity=0):\n",
        "        super().__init__(make, model, year, mileage)\n",
        "        self.towing_capacity = towing_capacity\n",
        "\n",
        "    def get_towing_capacity(self):\n",
        "        return self.towing_capacity\n",
        "\n",
        "car = Car(\"Volkswagen\", \"Golf\", 2003, 15000000000)\n",
        "print(\"Car mileage:\", car.get_mileage())\n",
        "\n",
        "bike = Motorcycle(\"Honda\", \"CBR\", 2019, 5000)\n",
        "print(\"Motorcycle mileage:\", bike.get_mileage())\n",
        "\n",
        "truck = Truck(\"Volvo\", \"Tutuu\", 2018, 20000, 13000)\n",
        "print(\"Truck towing capacity:\", truck.get_towing_capacity())\n",
        "\n",
        "print(\"\\n\")\n"
      ],
      "metadata": {
        "colab": {
          "base_uri": "https://localhost:8080/"
        },
        "id": "pVp_zFhqJ-BS",
        "outputId": "d0926124-e3dc-49b8-e7f3-ed6b4cbb0ff1"
      },
      "execution_count": 11,
      "outputs": [
        {
          "output_type": "stream",
          "name": "stdout",
          "text": [
            "Car mileage: 15000000000\n",
            "Motorcycle mileage: 5000\n",
            "Truck towing capacity: 13000\n",
            "\n",
            "\n"
          ]
        }
      ]
    },
    {
      "cell_type": "code",
      "source": [
        "\n",
        "class Employee:\n",
        "    def __init__(self, name, id, salary=0):\n",
        "        self.name = name\n",
        "        self.id = id\n",
        "        self.salary = salary\n",
        "\n",
        "class Manager(Employee):\n",
        "    def __init__(self, name, id, salary=0, dept=''):\n",
        "        super().__init__(name, id, salary)\n",
        "        self.dept = dept\n",
        "\n",
        "    def manage(self):\n",
        "        print(self.name, \"manages\", self.dept)\n",
        "\n",
        "class Engineer(Employee):\n",
        "    def __init__(self, name, id, salary=0, field=''):\n",
        "        super().__init__(name, id, salary)\n",
        "        self.field = field\n",
        "\n",
        "    def develop(self):\n",
        "        print(self.name, \"develops in\", self.field)\n",
        "\n",
        "class Salesperson(Employee):\n",
        "    def __init__(self, name, id, salary=0, rate=0.1):\n",
        "        super().__init__(name, id, salary)\n",
        "        self.rate = rate\n",
        "\n",
        "    def sell(self, amount):\n",
        "        commission = amount * self.rate\n",
        "        self.salary += commission\n",
        "        print(self.name, \"sold\", amount, \"earned\", commission)\n",
        "\n",
        "m = Manager(\"Mariana\", 1, 80000, \"HR\")\n",
        "m.manage()\n",
        "\n",
        "e = Engineer(\"Vasilica\", 2, 70000, \"IT\")\n",
        "e.develop()\n",
        "\n",
        "s = Salesperson(\"Andrei\", 3, 50000)\n",
        "s.sell(200000)\n",
        "\n",
        "print(\"\\n\")\n"
      ],
      "metadata": {
        "colab": {
          "base_uri": "https://localhost:8080/"
        },
        "id": "ttIX9GSUKIMV",
        "outputId": "e2eb3983-ab5f-4fc3-9b02-dd1684930b42"
      },
      "execution_count": 14,
      "outputs": [
        {
          "output_type": "stream",
          "name": "stdout",
          "text": [
            "Mariana manages HR\n",
            "Vasilica develops in IT\n",
            "Andrei sold 200000 earned 20000.0\n",
            "\n",
            "\n"
          ]
        }
      ]
    },
    {
      "cell_type": "code",
      "source": [
        "\n",
        "\n",
        "class Animal:\n",
        "    def __init__(self, name):\n",
        "        self.name = name\n",
        "\n",
        "class Mammal(Animal):\n",
        "    def feed_milk(self):\n",
        "        print(self.name, \"feeds milk\")\n",
        "\n",
        "class Bird(Animal):\n",
        "    def lay_eggs(self):\n",
        "        print(self.name, \"lays eggs\")\n",
        "\n",
        "class Fish(Animal):\n",
        "    def swim(self):\n",
        "        print(self.name, \"swims\")\n",
        "\n",
        "m = Mammal(\"Vaca\")\n",
        "m.feed_milk()\n",
        "\n",
        "b = Bird(\"Gaina\")\n",
        "b.lay_eggs()\n",
        "\n",
        "f = Fish(\"Somonu\")\n",
        "f.swim()\n",
        "\n",
        "print(\"\\n\")\n"
      ],
      "metadata": {
        "colab": {
          "base_uri": "https://localhost:8080/"
        },
        "id": "W_QtcYO8KOMO",
        "outputId": "b71a7512-b2ca-4ddb-8e88-bb6a224c325a"
      },
      "execution_count": 15,
      "outputs": [
        {
          "output_type": "stream",
          "name": "stdout",
          "text": [
            "Vaca feeds milk\n",
            "Gaina lays eggs\n",
            "Somonu swims\n",
            "\n",
            "\n"
          ]
        }
      ]
    },
    {
      "cell_type": "code",
      "source": [
        "\n",
        "\n",
        "class LibraryItem:\n",
        "    def __init__(self, title, id):\n",
        "        self.title = title\n",
        "        self.id = id\n",
        "        self.checked_out = False\n",
        "\n",
        "    def check_out(self):\n",
        "        if not self.checked_out:\n",
        "            self.checked_out = True\n",
        "            print(self.title, \"checked out\")\n",
        "        else:\n",
        "            print(self.title, \"already checked out\")\n",
        "\n",
        "    def return_item(self):\n",
        "        if self.checked_out:\n",
        "            self.checked_out = False\n",
        "            print(self.title, \"returned\")\n",
        "        else:\n",
        "            print(self.title, \"was not checked out\")\n",
        "\n",
        "    def display_info(self):\n",
        "        print(\"ID:\", self.id, \"Title:\", self.title)\n",
        "\n",
        "class Book(LibraryItem):\n",
        "    def __init__(self, title, id, author, pages):\n",
        "        super().__init__(title, id)\n",
        "        self.author = author\n",
        "        self.pages = pages\n",
        "\n",
        "    def display_info(self):\n",
        "        super().display_info()\n",
        "        print(\"Author:\", self.author, \"Pages:\", self.pages)\n",
        "\n",
        "class DVD(LibraryItem):\n",
        "    def __init__(self, title, id, director, duration):\n",
        "        super().__init__(title, id)\n",
        "        self.director = director\n",
        "        self.duration = duration\n",
        "\n",
        "    def display_info(self):\n",
        "        super().display_info()\n",
        "        print(\"Director:\", self.director, \"Duration:\", self.duration)\n",
        "\n",
        "class Magazine(LibraryItem):\n",
        "    def __init__(self, title, id, issue):\n",
        "        super().__init__(title, id)\n",
        "        self.issue = issue\n",
        "\n",
        "    def display_info(self):\n",
        "        super().display_info()\n",
        "        print(\"Issue:\", self.issue)\n",
        "\n",
        "b = Book(\"Viata lui Dumnezeu\", 1, \"Dominte Emanuel\", 231)\n",
        "b.display_info()\n",
        "b.check_out()\n",
        "b.return_item()\n",
        "\n",
        "d = DVD(\"Viata lui Dominte Emanuel\", 2, \"Dominte Emanuel\", 312)\n",
        "d.display_info()\n",
        "d.check_out()\n",
        "\n",
        "m = Magazine(\"Viata lui Dominte Emanuel\", 3, 312)\n",
        "m.display_info()\n",
        "m.return_item()\n"
      ],
      "metadata": {
        "colab": {
          "base_uri": "https://localhost:8080/"
        },
        "id": "WO_fKDOcKU6H",
        "outputId": "73c00320-9b7d-4987-dc4e-5e5af7bc9b8d"
      },
      "execution_count": 17,
      "outputs": [
        {
          "output_type": "stream",
          "name": "stdout",
          "text": [
            "ID: 1 Title: Viata lui Dumnezeu\n",
            "Author: Dominte Emanuel Pages: 231\n",
            "Viata lui Dumnezeu checked out\n",
            "Viata lui Dumnezeu returned\n",
            "ID: 2 Title: Viata lui Dominte Emanuel\n",
            "Director: Dominte Emanuel Duration: 312\n",
            "Viata lui Dominte Emanuel checked out\n",
            "ID: 3 Title: Viata lui Dominte Emanuel\n",
            "Issue: 312\n",
            "Viata lui Dominte Emanuel was not checked out\n"
          ]
        }
      ]
    }
  ]
}